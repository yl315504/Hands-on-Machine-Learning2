{
  "nbformat": 4,
  "nbformat_minor": 0,
  "metadata": {
    "colab": {
      "name": "TSNE.ipynb",
      "provenance": [],
      "authorship_tag": "ABX9TyMsBtz+olNTEI/nppT8xOdL",
      "include_colab_link": true
    },
    "kernelspec": {
      "name": "python3",
      "display_name": "Python 3"
    },
    "language_info": {
      "name": "python"
    }
  },
  "cells": [
    {
      "cell_type": "markdown",
      "metadata": {
        "id": "view-in-github",
        "colab_type": "text"
      },
      "source": [
        "<a href=\"https://colab.research.google.com/github/yl315504/Hands-on-Machine-Learning2/blob/main/TSNE.ipynb\" target=\"_parent\"><img src=\"https://colab.research.google.com/assets/colab-badge.svg\" alt=\"Open In Colab\"/></a>"
      ]
    },
    {
      "cell_type": "code",
      "metadata": {
        "id": "5dSRHwhmCHOI"
      },
      "source": [
        "from sklearn.manifold import TSNE\n",
        "from keras.datasets import mnist\n",
        "from sklearn.datasets import load_iris\n",
        "from numpy import reshape\n",
        "import seaborn as sns\n",
        "import pandas as pd  \n",
        "import numpy as np"
      ],
      "execution_count": null,
      "outputs": []
    },
    {
      "cell_type": "markdown",
      "metadata": {
        "id": "jfB9iD6YCRk2"
      },
      "source": [
        "**Iris dataset TSNE fitting and visualizing**\n",
        "\n",
        "After loading the Iris dataset, we'll get the data and label parts of the dataset. "
      ]
    },
    {
      "cell_type": "code",
      "metadata": {
        "colab": {
          "base_uri": "https://localhost:8080/"
        },
        "id": "NDhkw8DXCaRu",
        "outputId": "45fb7f85-7b05-4d99-b681-ddcc6b510d76"
      },
      "source": [
        "iris = load_iris()\n",
        "print(type(iris))\n",
        "x = iris.data\n",
        "print(type(x))\n",
        "y = iris.target \n",
        "#print(type(x))\n",
        "#print(x)\n",
        "#print(y)"
      ],
      "execution_count": null,
      "outputs": [
        {
          "output_type": "stream",
          "name": "stdout",
          "text": [
            "<class 'sklearn.utils.Bunch'>\n",
            "<class 'numpy.ndarray'>\n"
          ]
        }
      ]
    },
    {
      "cell_type": "code",
      "metadata": {
        "colab": {
          "base_uri": "https://localhost:8080/"
        },
        "id": "UReIllqMHdCF",
        "outputId": "9316eb8b-3f49-4738-d19c-a7f5f5becc04"
      },
      "source": [
        "tsne = TSNE(n_components=2, verbose=1, random_state=123)\n",
        "z = tsne.fit_transform(x)"
      ],
      "execution_count": null,
      "outputs": [
        {
          "output_type": "stream",
          "name": "stdout",
          "text": [
            "[t-SNE] Computing 91 nearest neighbors...\n",
            "[t-SNE] Indexed 150 samples in 0.000s...\n",
            "[t-SNE] Computed neighbors for 150 samples in 0.016s...\n",
            "[t-SNE] Computed conditional probabilities for sample 150 / 150\n",
            "[t-SNE] Mean sigma: 0.509910\n",
            "[t-SNE] KL divergence after 250 iterations with early exaggeration: 48.021656\n",
            "[t-SNE] KL divergence after 1000 iterations: 0.122989\n"
          ]
        }
      ]
    },
    {
      "cell_type": "code",
      "metadata": {
        "colab": {
          "base_uri": "https://localhost:8080/",
          "height": 312
        },
        "id": "XgLzG2k9zyrl",
        "outputId": "f445273d-d898-45ea-ccd1-5756e472b8d0"
      },
      "source": [
        "df = pd.DataFrame()\n",
        "df[\"y\"] = y\n",
        "df[\"comp-1\"] = z[:,0]\n",
        "df[\"comp-2\"] = z[:,1]\n",
        "sns.scatterplot(x=\"comp-1\", y=\"comp-2\", hue=df.y.tolist(),\n",
        "                palette=sns.color_palette(\"hls\", 3),\n",
        "                data=df).set(title=\"Iris data T-SNE projection\") "
      ],
      "execution_count": null,
      "outputs": [
        {
          "output_type": "execute_result",
          "data": {
            "text/plain": [
              "[Text(0.5, 1.0, 'Iris data T-SNE projection')]"
            ]
          },
          "metadata": {},
          "execution_count": 34
        },
        {
          "output_type": "display_data",
          "data": {
            "image/png": "[encoded data removed]",
            "text/plain": [
              "<Figure size 432x288 with 1 Axes>"
            ]
          },
          "metadata": {
            "needs_background": "light"
          }
        }
      ]
    },
    {
      "cell_type": "code",
      "metadata": {
        "colab": {
          "base_uri": "https://localhost:8080/"
        },
        "id": "yL631M0i673c",
        "outputId": "bc81736e-0f14-4864-8c8b-1e0cf191e80a"
      },
      "source": [
        "print(df)"
      ],
      "execution_count": null,
      "outputs": [
        {
          "output_type": "stream",
          "name": "stdout",
          "text": [
            "     y    comp-1     comp-2\n",
            "0    0  5.691961  23.653492\n",
            "1    0  4.565128  25.940556\n",
            "2    0  5.528082  26.442286\n",
            "3    0  5.251669  26.656349\n",
            "4    0  5.329635  23.513456\n",
            "..  ..       ...        ...\n",
            "145  2 -3.518719  -4.882429\n",
            "146  2 -2.307589  -7.857636\n",
            "147  2 -3.315132  -5.801714\n",
            "148  2 -2.896796  -4.159585\n",
            "149  2 -1.215474  -8.253289\n",
            "\n",
            "[150 rows x 3 columns]\n"
          ]
        }
      ]
    }
  ]
}